{
 "cells": [
  {
   "cell_type": "markdown",
   "id": "41e5bfcd-a809-4e96-b360-23586b5dee25",
   "metadata": {},
   "source": [
    "# 动态规划"
   ]
  },
  {
   "cell_type": "markdown",
   "id": "556cbb46-d399-416f-bf28-4a4a4c3e389e",
   "metadata": {},
   "source": [
    "## 01背包"
   ]
  },
  {
   "cell_type": "code",
   "execution_count": 1,
   "id": "6c553782-0a5b-40ce-a0c6-a7789b84b273",
   "metadata": {},
   "outputs": [
    {
     "ename": "SyntaxError",
     "evalue": "invalid syntax (3514350287.py, line 6)",
     "output_type": "error",
     "traceback": [
      "\u001b[0;36m  Cell \u001b[0;32mIn[1], line 6\u001b[0;36m\u001b[0m\n\u001b[0;31m    for i in range 10:\u001b[0m\n\u001b[0m                   ^\u001b[0m\n\u001b[0;31mSyntaxError\u001b[0m\u001b[0;31m:\u001b[0m invalid syntax\n"
     ]
    }
   ],
   "source": [
    "T = 70 # 背包容量\n",
    "M = 3 # 物品數量\n",
    "weight = [] # 物品重量\n",
    "value = [] # 物品价值\n",
    "dp = [0 for i in range(T+1)]\n",
    "for i in range(M):\n",
    "    for j in range(T, weight[i]-1, -1):\n",
    "        dp[j] = max(dp[j], dp[j - weight[i]] + value[i])\n",
    "\n",
    "print(dp[T])"
   ]
  },
  {
   "cell_type": "code",
   "execution_count": null,
   "id": "1e55b8ab-2bc6-4561-9d05-2e178be0be5a",
   "metadata": {},
   "outputs": [],
   "source": []
  }
 ],
 "metadata": {
  "kernelspec": {
   "display_name": "Python 3 (ipykernel)",
   "language": "python",
   "name": "python3"
  },
  "language_info": {
   "codemirror_mode": {
    "name": "ipython",
    "version": 3
   },
   "file_extension": ".py",
   "mimetype": "text/x-python",
   "name": "python",
   "nbconvert_exporter": "python",
   "pygments_lexer": "ipython3",
   "version": "3.11.2"
  }
 },
 "nbformat": 4,
 "nbformat_minor": 5
}
