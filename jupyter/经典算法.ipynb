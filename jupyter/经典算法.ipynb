{
 "cells": [
  {
   "cell_type": "markdown",
   "id": "41e5bfcd-a809-4e96-b360-23586b5dee25",
   "metadata": {},
   "source": [
    "# 动态规划"
   ]
  },
  {
   "cell_type": "markdown",
   "id": "556cbb46-d399-416f-bf28-4a4a4c3e389e",
   "metadata": {},
   "source": [
    "## 01背包  \n",
    "原始版本的dp是二维数组，`dp[i][j]`的i用于遍历每个物品，j用于遍历所有容量。但01背包问题中，`dp[i+1]`只依赖于`dp[i]`的数据，所以可以优化为滚动数组，只需要`dp[2][j]`即可。  \n",
    "在`dp[j]`中，`dp[J]`依赖`dp[j]` (J > j)，如果j是从0正序遍历的话，就需要使用滚动数组暂存结果。如果j从背包最大容量，逆序遍历，则可以不需要暂存上一轮的结果，将`dp[2][j]`优化为`dp[j]`。"
   ]
  },
  {
   "cell_type": "code",
   "execution_count": 3,
   "id": "6c553782-0a5b-40ce-a0c6-a7789b84b273",
   "metadata": {},
   "outputs": [
    {
     "name": "stdout",
     "output_type": "stream",
     "text": [
      "3\n"
     ]
    }
   ],
   "source": [
    "T = 70 # 背包容量\n",
    "M = 3 # 物品數量\n",
    "weight = [71, 69, 1] # 物品重量\n",
    "value = [100, 1, 2] # 物品价值\n",
    "dp = [0 for i in range(T+1)]\n",
    "for i in range(M):\n",
    "    for j in range(T, weight[i]-1, -1):\n",
    "        dp[j] = max(dp[j], dp[j - weight[i]] + value[i])\n",
    "\n",
    "print(dp[T])"
   ]
  },
  {
   "cell_type": "markdown",
   "id": "1e55b8ab-2bc6-4561-9d05-2e178be0be5a",
   "metadata": {},
   "source": [
    "# 并查集\n",
    "参考资料: https://oi-wiki.org/ds/dsu/#__tabbed_6_2  \n",
    "参考例题: https://leetcode.cn/problems/count-unreachable-pairs-of-nodes-in-an-undirected-graph/description/"
   ]
  },
  {
   "cell_type": "code",
   "execution_count": null,
   "id": "c8788643",
   "metadata": {},
   "outputs": [],
   "source": [
    "class Dsu:\n",
    "    def __init__(self, size: int):\n",
    "        self.pa = list(range(size))\n",
    "    \n",
    "    def find(self, x):\n",
    "        if self.pa[x] != x:\n",
    "            self.pa[x] = self.find(self.pa[x])\n",
    "        return self.pa[x]\n",
    "\n",
    "    # 合并函数，将x合并到y\n",
    "    def union(self, x, y):\n",
    "        self.pa[self.find(x)] = self.find(y)\n",
    "    \n"
   ]
  }
 ],
 "metadata": {
  "kernelspec": {
   "display_name": "Python 3 (ipykernel)",
   "language": "python",
   "name": "python3"
  },
  "language_info": {
   "codemirror_mode": {
    "name": "ipython",
    "version": 3
   },
   "file_extension": ".py",
   "mimetype": "text/x-python",
   "name": "python",
   "nbconvert_exporter": "python",
   "pygments_lexer": "ipython3",
   "version": "3.11.2"
  }
 },
 "nbformat": 4,
 "nbformat_minor": 5
}
